{
 "cells": [
  {
   "cell_type": "markdown",
   "id": "a4a45839",
   "metadata": {},
   "source": [
    "# DataLab 2: Voetbal & Data Science <a name='begin'></a>\n",
    "\n",
    "<br>Groepsnummer: 3B\n",
    "<br>Sprintnummer: 2<br>\n",
    "<br>    **Busse Heemskerk** 22122877 \n",
    "<br>    **Isa Dijkstra**                             22119485\n",
    "<br>    **Johan Heskes**                        22132376\n",
    "<br>    **Tim Oosterling**                        22078800"
   ]
  },
  {
   "cell_type": "markdown",
   "id": "9ec2a039",
   "metadata": {},
   "source": [
    "## Table of Contents\n",
    "\n",
    "1. [Importeren van de dataset in Python](#dataset)\n",
    "2. [Beschrijven van de tabellen](#tabellen)\n",
    "3. [Bekijken van de data van Heracles Almelo](#hadata)\n",
    "4. [Eigen functies; Statistieken per seizoen bepalen](#define1)\n",
    "    1. [get_id](#get_id)\n",
    "    2. [win_loss](#win_loss)\n",
    "    3. [statistiek](#statistiek)\n",
    "    4. [ranglijst](#ranglijst)\n",
    "5. [Het runnen van de functies](#run1)"
   ]
  },
  {
   "cell_type": "markdown",
   "id": "cdb1aba4",
   "metadata": {},
   "source": [
    "## Importeren van de dataset in Python <a name='dataset'></a>"
   ]
  },
  {
   "cell_type": "markdown",
   "id": "43a86a30",
   "metadata": {},
   "source": [
    "Voordat er gecodeerd wordt, worden de mogelijk nodige libraries voor de opdrachten geïmporteerd"
   ]
  },
  {
   "cell_type": "code",
   "execution_count": null,
   "id": "d7dc0825",
   "metadata": {},
   "outputs": [],
   "source": [
    "import sqlite3\n",
    "import pandas as pd\n",
    "import numpy as np"
   ]
  },
  {
   "cell_type": "markdown",
   "id": "9599d17d",
   "metadata": {},
   "source": [
    "Eerst word er een connectie gemaakt met de SQL-database door middel van sqlite3, vervolgens worden de tabellen per stuk geïmporteerd door middel van Pandas."
   ]
  },
  {
   "cell_type": "code",
   "execution_count": null,
   "id": "a5d76b13",
   "metadata": {},
   "outputs": [],
   "source": [
    "connect = sqlite3.connect('database.sqlite')\n",
    "\n",
    "country = pd.read_sql_query(\"SELECT * FROM Country\", connect)\n",
    "league = pd.read_sql_query(\"SELECT * FROM League\", connect)\n",
    "match = pd.read_sql_query(\"SELECT * FROM Match\", connect)\n",
    "player = pd.read_sql_query(\"SELECT * FROM Player\", connect)\n",
    "player_attributes = pd.read_sql_query(\"SELECT * FROM Player_attributes\", connect)\n",
    "team = pd.read_sql_query(\"SELECT * FROM Team\", connect)\n",
    "team_attributes = pd.read_sql_query(\"SELECT * FROM Team_attributes\", connect)"
   ]
  },
  {
   "cell_type": "markdown",
   "id": "2e579fcc",
   "metadata": {},
   "source": [
    "Vervolgens wordt de optie om de kolommen in te korten uitgezet, daarna worden alle kolommen getoont."
   ]
  },
  {
   "cell_type": "code",
   "execution_count": null,
   "id": "db0f1210",
   "metadata": {},
   "outputs": [],
   "source": [
    "pd.set_option(\"display.max_columns\", None)\n",
    "display(country, league, match, player, player_attributes, team, team_attributes)"
   ]
  },
  {
   "cell_type": "markdown",
   "id": "9c354b41",
   "metadata": {},
   "source": [
    "[Terug naar het begin](#begin)"
   ]
  },
  {
   "cell_type": "markdown",
   "id": "3bdc53dd",
   "metadata": {},
   "source": [
    "## Beschrijven van de tabellen <a name='tabellen'></a>"
   ]
  },
  {
   "cell_type": "markdown",
   "id": "860a867f",
   "metadata": {},
   "source": [
    "Hier is de beschrijving van elke tabel gegeven, waarbij de naam en de beschrijving te zien zijn. De beschrijving bevat wat er in de tabel te vinden is."
   ]
  },
  {
   "cell_type": "markdown",
   "id": "976e0caf",
   "metadata": {},
   "source": [
    "| Tabel naam | Tabel beschrijving \n",
    "|:-------------------|:---------------\n",
    "Country | In deze tabel staan de namen van de landen en de daarbij horende ID's\n",
    "League | In deze tabel staan de namen van de competities per land samen met landelijke ID\n",
    "Match | In deze tabel staat alle informatie die met wedstrijden te maken heeft en informatie over het wedden op de wedstrijden\n",
    "Player | In deze tabel staat info over alle spelers, hun fifa ID, wanneer ze jarig zijn, hun lengte (in cm) en hun gewicht (in lbs) \n",
    "Player_attributes | In deze tabel staan de statistieken en rating van elke speler in de database \n",
    "Team | In deze tabel staat de id's van de club, de volledige club naam en de afkorting van de club\n",
    "Team_attributes | In deze tabel zijn de statistieken van de teams in de database vermeld. zowel offensieve als defensieve statestieken zijn hierbij inbegrepen"
   ]
  },
  {
   "cell_type": "markdown",
   "id": "2135929f",
   "metadata": {},
   "source": [
    "[Terug naar het begin](#begin)"
   ]
  },
  {
   "cell_type": "markdown",
   "id": "b673f40a",
   "metadata": {},
   "source": [
    "## Bekijken van de data van Heracles Almelo <a name='hadata'></a>"
   ]
  },
  {
   "cell_type": "markdown",
   "id": "273a70c3",
   "metadata": {},
   "source": [
    "Eerst word er een cell gerunt om de team ID te vinden van onze club: Heracles Almelo"
   ]
  },
  {
   "cell_type": "code",
   "execution_count": null,
   "id": "26f000a0",
   "metadata": {},
   "outputs": [],
   "source": [
    "team[team[\"team_long_name\"] == \"Heracles Almelo\"]"
   ]
  },
  {
   "cell_type": "markdown",
   "id": "cdb8e9ef",
   "metadata": {},
   "source": [
    "De gegevens van het gekozen team staan getoond in de uitkomst van de onderstaande cell."
   ]
  },
  {
   "cell_type": "code",
   "execution_count": null,
   "id": "5c6b1c77",
   "metadata": {
    "scrolled": true
   },
   "outputs": [],
   "source": [
    "team_id = team[team['team_long_name'] == 'Heracles Almelo'].iloc[0,1]\n",
    "print('Team ID:', team_id)\n",
    "print('Name:', team[team['team_long_name'] == 'Heracles Almelo'].iloc[0,3])\n",
    "print('Short name:', team[team['team_long_name'] == 'Heracles Almelo'].iloc[0,4])\n",
    "print('Country:', 'Netherlands')\n",
    "print('League id:', country[country['name'] == 'Netherlands'].iloc[0,0])\n",
    "print(\"League name:\", league[league[\"id\"] == 13274].iloc[0,2])"
   ]
  },
  {
   "cell_type": "markdown",
   "id": "0e6fe5a2",
   "metadata": {},
   "source": [
    "De gegevens van elke wedstrijd die het gekozen team heeft gespeeld per seizoen is hieronder getoond."
   ]
  },
  {
   "cell_type": "code",
   "execution_count": null,
   "id": "127b5f65",
   "metadata": {},
   "outputs": [],
   "source": [
    "display(match[(match['home_team_api_id'] == team_id) | (match['away_team_api_id'] == team_id)])"
   ]
  },
  {
   "cell_type": "markdown",
   "id": "7fdd669e",
   "metadata": {},
   "source": [
    "[Terug naar het begin](#begin)"
   ]
  },
  {
   "cell_type": "markdown",
   "id": "e3bfd4a1",
   "metadata": {},
   "source": [
    "## Eigen functies; Statistieken per seizoen bepalen <a name='define1'></a>"
   ]
  },
  {
   "cell_type": "markdown",
   "id": "86792ace",
   "metadata": {},
   "source": [
    "Hieronder zijn 4 functies gedefineerd:\n",
    "\n",
    "    id_zoeker\n",
    "    punten\n",
    "    statistiek\n",
    "    ranglijst\n",
    "De uitleg van alle functies staat omschreven in de docstrings"
   ]
  },
  {
   "cell_type": "markdown",
   "id": "d521de80",
   "metadata": {},
   "source": [
    "### id_zoeker <a name='id_zoeker'></a>"
   ]
  },
  {
   "cell_type": "code",
   "execution_count": null,
   "id": "6268649c",
   "metadata": {},
   "outputs": [],
   "source": [
    "def id_zoeker(club):\n",
    "    \"\"\"\n",
    "    Deze functie haalt het ID-nummer van de gegeven club op\n",
    "    \n",
    "    Parameters\n",
    "    ----------\n",
    "    club : str \n",
    "        De volledige naam van de club, waarvan je het ID wilt weten\n",
    "    \n",
    "    Returns\n",
    "    ----------\n",
    "    id : integer\n",
    "        Het ID-nummer van de gekozen club\n",
    "        \n",
    "    \"\"\"\n",
    "    \n",
    "    #Filteren\n",
    "    id = team[team['team_long_name'] == club].iloc[0,1]\n",
    "    return id"
   ]
  },
  {
   "cell_type": "markdown",
   "id": "304fa596",
   "metadata": {},
   "source": [
    "[Terug naar het begin](#begin)"
   ]
  },
  {
   "cell_type": "markdown",
   "id": "8c6fb100",
   "metadata": {},
   "source": [
    "### punten <a name='punten'></a>"
   ]
  },
  {
   "cell_type": "code",
   "execution_count": null,
   "id": "74af8531",
   "metadata": {},
   "outputs": [],
   "source": [
    "def punten(club, seizoen):\n",
    "    \"\"\"\n",
    "    Deze functie maakt, op basis van een club en een seizoen, 2 kolommen aan. Eén over het aantal punten en één over \n",
    "    of de wedstrijd thuis of uit was voor het gekozen team.\n",
    "    \n",
    "    Parameters\n",
    "    ----------\n",
    "    club : str \n",
    "        De volledige naam van de club, waarvan je wilt weten hoeveel er gescoord is\n",
    "    \n",
    "    seizoen : str\n",
    "        Het speel seizoen waar je de data van wilt weten\n",
    "    \n",
    "    Returns\n",
    "    ----------\n",
    "    wed : Pandas DataFrame\n",
    "        Een dataframe gebaseerd op match, waarbij alleen de data van de aangegeven club en seizoen wordt getoond\n",
    "    \n",
    "    \"\"\"\n",
    "    \n",
    "    #Aanmaken van een nieuwe gefilterde dataset en 2 lege lists\n",
    "    wed = match[((match['home_team_api_id'] == id_zoeker(club)) | (match['away_team_api_id'] == id_zoeker(club))) & (match['season'] == seizoen)]\n",
    "    punten_ = []\n",
    "    tu = []\n",
    "    \n",
    "    #Beginnen van een loop om de lijsten te vullen\n",
    "    loop = 0\n",
    "    for i in list(wed['home_team_api_id']):\n",
    "        #If-statement voor wanneer het team thuis of uit speelt\n",
    "        if list(wed['home_team_api_id'])[loop] == id_zoeker(club):\n",
    "            #If-statement voor wanneer het team meer of minder doelpunten heeft gescoord om te kijken naar winst, gelijk en verlies\n",
    "            if list(wed['home_team_goal'])[loop] > list(wed['away_team_goal'])[loop]:\n",
    "                punten_.append(3)\n",
    "                tu.append('thuis')\n",
    "            elif list(wed['home_team_goal'])[loop] == list(wed['away_team_goal'])[loop]:\n",
    "                punten_.append(1)\n",
    "                tu.append('thuis')\n",
    "            else:\n",
    "                punten_.append(0)\n",
    "                tu.append('thuis')\n",
    "        else:\n",
    "            #If-statement voor wanneer het team meer of minder doelpunten heeft gescoord om te kijken naar winst, gelijk en verlies\n",
    "            if list(wed['away_team_goal'])[loop] > list(wed['home_team_goal'])[loop]:\n",
    "                punten_.append(3)\n",
    "                tu.append('uit')\n",
    "            elif list(wed['away_team_goal'])[loop] == list(wed['home_team_goal'])[loop]:\n",
    "                punten_.append(1)\n",
    "                tu.append('uit')\n",
    "            else:\n",
    "                punten_.append(0)\n",
    "                tu.append('uit')\n",
    "        loop += 1\n",
    "        \n",
    "    #Aanmaken van copy en 2 nieuwe kolommen\n",
    "    wed = wed.copy()\n",
    "    wed.loc[:, 'punten'] = punten_\n",
    "    wed.loc[:, 'thuis / uit'] = tu\n",
    "    return wed"
   ]
  },
  {
   "cell_type": "markdown",
   "id": "57bc617c",
   "metadata": {},
   "source": [
    "[Terug naar het begin](#begin)"
   ]
  },
  {
   "cell_type": "markdown",
   "id": "89c45f6e",
   "metadata": {},
   "source": [
    "### statistiek <a name='statistiek'></a>"
   ]
  },
  {
   "cell_type": "code",
   "execution_count": null,
   "id": "2f87f442",
   "metadata": {},
   "outputs": [],
   "source": [
    "def statistiek(club, seizoen):\n",
    "    \"\"\"\n",
    "    Deze functie laat de statistieken zien over de gegeven club in het gegeven seizoen. \n",
    "    \n",
    "    Parameters\n",
    "    ----------\n",
    "    club : str \n",
    "        De volledige naam van de club, waarvan je de statistieken wilt weten\n",
    "    \n",
    "    seizoen : str\n",
    "        Het speel seizoen waar je de data van wilt weten\n",
    "    \n",
    "    Returns\n",
    "    ----------\n",
    "    df : Pandas DataFrame\n",
    "        Een dataframe waarin de naam, het aantal wedstrijden, het aantal punten, het gemiddelde aantal punten per wedstrijd en de winst percentages staan\n",
    "    \n",
    "    \"\"\"\n",
    "    #Aanmaken van 2 aparte dataframes voor percentages\n",
    "    t = punten(club, seizoen)[punten(club, seizoen)['thuis / uit'] == 'thuis']\n",
    "    u = punten(club, seizoen)[punten(club, seizoen)['thuis / uit'] == 'uit']\n",
    "    \n",
    "    #Maken van een list met alle benodigde data voor het dataframe \n",
    "    stats = [[club,\n",
    "            seizoen,\n",
    "            len(punten(club, seizoen)),\n",
    "            sum(punten(club, seizoen)['punten']),\n",
    "            round(sum(punten(club, seizoen)['punten'] / len(punten(club, seizoen)['punten'])), 2),\n",
    "            round(t[t['punten'] == 3]['punten'].count() / t['punten'].count() * 100, 2),\n",
    "            round(t[t['punten'] == 1]['punten'].count() / t['punten'].count() * 100, 2),\n",
    "            round(t[t['punten'] == 0]['punten'].count() / t['punten'].count() * 100, 2),\n",
    "            round(u[u['punten'] == 3]['punten'].count() / u['punten'].count() * 100, 2),\n",
    "            round(u[u['punten'] == 1]['punten'].count() / u['punten'].count() * 100, 2),\n",
    "            round(u[u['punten'] == 0]['punten'].count() / u['punten'].count() * 100, 2)]]\n",
    "    \n",
    "    #Maken van het dataframe\n",
    "    df = pd.DataFrame(stats, columns =['team',\n",
    "                                       'seizoen',\n",
    "                                       'wedstrijden', \n",
    "                                       'punten',\n",
    "                                       'gemiddeld_punten',\n",
    "                                       'thuis_win%',\n",
    "                                       'thuis_gelijk%',\n",
    "                                       'thuis_verlies%',\n",
    "                                       'uit_win%',\n",
    "                                       'uit_gelijk%',\n",
    "                                       'uit_verlies%'])\n",
    "       \n",
    "    return df"
   ]
  },
  {
   "cell_type": "markdown",
   "id": "abd8808a",
   "metadata": {},
   "source": [
    "[Terug naar het begin](#begin)"
   ]
  },
  {
   "cell_type": "markdown",
   "id": "cda0ae7f",
   "metadata": {},
   "source": [
    "### ranglijst <a name='ranglijst'></a>"
   ]
  },
  {
   "cell_type": "code",
   "execution_count": null,
   "id": "09c3adda",
   "metadata": {},
   "outputs": [],
   "source": [
    "load_screen = [\"Welcome to this journey!..............................................\",    \n",
    "                       \"Preparing to load dataset.............................................\",    \n",
    "                       \"Checking for missing files...............................................\",    \n",
    "                       \"Initializing data structures................................................\",    \n",
    "                       \"Setting up parameters.....................................................\",    \n",
    "                       \"Loading feature vectors................................................\",    \n",
    "                       \"Applying pre-processing steps......................................\",    \n",
    "                       \"Filtering out invalid samples.............................................\",    \n",
    "                       \"Compiling statistics.......................................................\",    \n",
    "                       \"Normalizing data...........................................................\",    \n",
    "                       \"Building training and test sets..........................................\",    \n",
    "                       \"Cross-validating models.................................................\",   \n",
    "                       \"Fine-tuning hyperparameters..........................................\",    \n",
    "                       \"Evaluating performance metrics....................................\",    \n",
    "                       \"The dataset is almost loaded!........................................\"]\n",
    "\n",
    "def ranglijst(league_naam,seizoen):\n",
    "    \"\"\"\n",
    "    Deze functie laat de ranglijst zien over de gegeven league in het gegeven seizoen. \n",
    "    \n",
    "    Parameters\n",
    "    ----------\n",
    "    league_naam : str \n",
    "        De naam van de league waarvan je de ranglijst wilt bepalen\n",
    "    \n",
    "    seizoen : str\n",
    "        Het speel seizoen waar je de data van wilt weten\n",
    "    \n",
    "    Returns\n",
    "    ----------\n",
    "    df : Pandas DataFrame\n",
    "        Een dataframe waarin de data van het gegeven seizoen staat op volgorde van de behaalde punten\n",
    "        \n",
    "    \"\"\"\n",
    "    \n",
    "    #Filteren voor het maken van een lijst met alle team namen in een league\n",
    "    league_id = league[league['name']== league_naam].iloc[0,1]\n",
    "    seizoen_filter = match[match['season'] == seizoen]\n",
    "    team_ids = set(list(seizoen_filter[seizoen_filter['league_id'] == league_id]['home_team_api_id']))\n",
    "    team_ids = list(team_ids)\n",
    "    \n",
    "    #Maken van een lijst met alle team namen in een league\n",
    "    team_names = []\n",
    "    for i in team_ids:\n",
    "        team_names.append(team[team['team_api_id'] == i].iloc[0,3])\n",
    "    \n",
    "    #Aanmaken dataframe voor gebruik    \n",
    "    df = statistiek(team_names[0],seizoen)\n",
    "\n",
    "    #Loopen over de list met team namen om het dataframe vol te zetten\n",
    "    print('stats season', seizoen, 'from', league_naam)\n",
    "    for i in range(1, len(team_names)):\n",
    "        df = pd.concat([df, statistiek(team_names[i], seizoen)])\n",
    "        print(str(round(100/(len(team_names)+1)*i,2))+'%', load_screen[(i-1)%15], end = '\\r')\n",
    "    print('100.0% This adventure was brought to you by Group 3B.........')\n",
    "    \n",
    "    #Sorteren van het dataframe op basis van behaalde punten\n",
    "    df = df.sort_values(by='punten', ascending = False).set_index('team')\n",
    "    \n",
    "    return df "
   ]
  },
  {
   "cell_type": "markdown",
   "id": "054880ed",
   "metadata": {},
   "source": [
    "[Terug naar het begin](#begin)"
   ]
  },
  {
   "cell_type": "markdown",
   "id": "5dbdf6b5",
   "metadata": {},
   "source": [
    "## Het runnen van de functies <a name='run1'></a>\n",
    "Hieronder worden de functies statistiek en ranglijst uitgevoerd:"
   ]
  },
  {
   "cell_type": "code",
   "execution_count": null,
   "id": "541b417c",
   "metadata": {},
   "outputs": [],
   "source": [
    "statistiek('Heracles Almelo', '2009/2010')"
   ]
  },
  {
   "cell_type": "code",
   "execution_count": null,
   "id": "5f13e918",
   "metadata": {},
   "outputs": [],
   "source": [
    "ranglijst('Netherlands Eredivisie', '2009/2010')"
   ]
  },
  {
   "cell_type": "markdown",
   "id": "f65702b7",
   "metadata": {},
   "source": [
    "#### Einde Sprint 2"
   ]
  },
  {
   "cell_type": "markdown",
   "id": "e57438c4",
   "metadata": {},
   "source": [
    "[Terug naar het begin](#begin)"
   ]
  }
 ],
 "metadata": {
  "kernelspec": {
   "display_name": "Python 3 (ipykernel)",
   "language": "python",
   "name": "python3"
  },
  "language_info": {
   "codemirror_mode": {
    "name": "ipython",
    "version": 3
   },
   "file_extension": ".py",
   "mimetype": "text/x-python",
   "name": "python",
   "nbconvert_exporter": "python",
   "pygments_lexer": "ipython3",
   "version": "3.9.12"
  }
 },
 "nbformat": 4,
 "nbformat_minor": 5
}
