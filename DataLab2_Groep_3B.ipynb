{
 "cells": [
  {
   "cell_type": "markdown",
   "id": "a4a45839",
   "metadata": {},
   "source": [
    "# DataLab 2: Voetbal & Data Science <a name='begin'></a>\n",
    "\n",
    "<br>Groepsnummer: 3B\n",
    "<br>Sprintnummer: 3 <br><br> Leden:\n",
    "<br>    **Busse Heemskerk** 22122877 \n",
    "<br>    **Isa Dijkstra**                             22119485\n",
    "<br> **Jacco van den Dobbelsteen**  17100976\n",
    "<br>    **Johan Heskes**                        22132376\n",
    "<br>    **Tim Oosterling**                        22078800"
   ]
  },
  {
   "cell_type": "markdown",
   "id": "9ec2a039",
   "metadata": {},
   "source": [
    "## Table of Contents\n",
    "\n",
    "1. [Importeren van de dataset in Python](#dataset)\n",
    "2. [Sprint 2](#spr2)\n",
    "    1. [Beschrijven van de tabellen](#tabellen)\n",
    "    2. [Bekijken van de data van Heracles Almelo](#hadata)\n",
    "    3. [Eigen functies; Statistieken per seizoen bepalen](#define1)\n",
    "        1. [Het runnen van de functies](#run1)\n",
    "3. [Sprint 3](#spr3)\n",
    "    1. [Eigen functies: Prestaties van Heracles Almelo](#prestatie)\n",
    "        1. [Bekijken van de prestaties](#prebekijk)\n",
    "    2. [Onderzoek teameigenschappen](#team)\n",
    "        1. [kolom_seizoen](#kolmaken)\n",
    "    3. [Visualisaties](#visu1)\n",
    "        1. [Tonen van de grafieken](#run3)\n",
    "    "
   ]
  },
  {
   "cell_type": "markdown",
   "id": "cdb1aba4",
   "metadata": {},
   "source": [
    "## Importeren van de dataset in Python <a name='dataset'></a>"
   ]
  },
  {
   "cell_type": "markdown",
   "id": "43a86a30",
   "metadata": {},
   "source": [
    "Voordat er gecodeerd wordt, worden de mogelijk nodige libraries voor de opdrachten geïmporteerd"
   ]
  },
  {
   "cell_type": "code",
   "execution_count": null,
   "id": "d7dc0825",
   "metadata": {},
   "outputs": [],
   "source": [
    "import sqlite3\n",
    "import pandas as pd\n",
    "import numpy as np\n",
    "import seaborn as sns\n",
    "import matplotlib.pyplot as plt\n",
    "from functools import wraps"
   ]
  },
  {
   "cell_type": "markdown",
   "id": "9599d17d",
   "metadata": {},
   "source": [
    "Eerst word er een connectie gemaakt met de SQL-database door middel van sqlite3, vervolgens worden de tabellen per stuk geïmporteerd door middel van Pandas."
   ]
  },
  {
   "cell_type": "code",
   "execution_count": null,
   "id": "a5d76b13",
   "metadata": {},
   "outputs": [],
   "source": [
    "connect = sqlite3.connect('database.sqlite')\n",
    "\n",
    "country = pd.read_sql_query(\"SELECT * FROM Country\", connect)\n",
    "league = pd.read_sql_query(\"SELECT * FROM League\", connect)\n",
    "match = pd.read_sql_query(\"SELECT * FROM Match\", connect)\n",
    "player = pd.read_sql_query(\"SELECT * FROM Player\", connect)\n",
    "player_attributes = pd.read_sql_query(\"SELECT * FROM Player_attributes\", connect)\n",
    "team = pd.read_sql_query(\"SELECT * FROM Team\", connect)\n",
    "team_attributes = pd.read_sql_query(\"SELECT * FROM Team_attributes\", connect)"
   ]
  },
  {
   "cell_type": "markdown",
   "id": "2e579fcc",
   "metadata": {},
   "source": [
    "Vervolgens wordt de optie om de kolommen in te korten uitgezet, daarna worden alle kolommen getoont."
   ]
  },
  {
   "cell_type": "code",
   "execution_count": null,
   "id": "db0f1210",
   "metadata": {},
   "outputs": [],
   "source": [
    "pd.set_option(\"display.max_columns\", None)\n",
    "display(country, league, match, player, player_attributes, team, team_attributes)"
   ]
  },
  {
   "cell_type": "markdown",
   "id": "9c354b41",
   "metadata": {},
   "source": [
    "[Terug naar het begin](#begin)"
   ]
  },
  {
   "cell_type": "markdown",
   "id": "21a23866",
   "metadata": {},
   "source": [
    "# Sprint 2 <a name='spr2' ></a>"
   ]
  },
  {
   "cell_type": "markdown",
   "id": "3bdc53dd",
   "metadata": {},
   "source": [
    "## Beschrijven van de tabellen <a name='tabellen'></a>"
   ]
  },
  {
   "cell_type": "markdown",
   "id": "860a867f",
   "metadata": {},
   "source": [
    "Hier is de beschrijving van elke tabel gegeven, waarbij de naam en de beschrijving te zien zijn. De beschrijving bevat wat er in de tabel te vinden is."
   ]
  },
  {
   "cell_type": "markdown",
   "id": "976e0caf",
   "metadata": {},
   "source": [
    "| Tabel naam | Tabel beschrijving \n",
    "|:-------------------|:---------------\n",
    "Country | In deze tabel staan de namen van de landen en de daarbij horende ID's\n",
    "League | In deze tabel staan de namen van de competities per land samen met landelijke ID\n",
    "Match | In deze tabel staat alle informatie die met wedstrijden te maken heeft en informatie over het wedden op de wedstrijden\n",
    "Player | In deze tabel staat info over alle spelers, hun fifa ID, wanneer ze jarig zijn, hun lengte (in cm) en hun gewicht (in lbs) \n",
    "Player_attributes | In deze tabel staan de statistieken en rating van elke speler in de database \n",
    "Team | In deze tabel staat de id's van de club, de volledige club naam en de afkorting van de club\n",
    "Team_attributes | In deze tabel zijn de statistieken van de teams in de database vermeld. zowel offensieve als defensieve statestieken zijn hierbij inbegrepen"
   ]
  },
  {
   "cell_type": "markdown",
   "id": "2135929f",
   "metadata": {},
   "source": [
    "[Terug naar het begin](#begin)"
   ]
  },
  {
   "cell_type": "markdown",
   "id": "b673f40a",
   "metadata": {},
   "source": [
    "## Bekijken van de data van Heracles Almelo <a name='hadata'></a>"
   ]
  },
  {
   "cell_type": "markdown",
   "id": "273a70c3",
   "metadata": {},
   "source": [
    "Eerst word er een cell gerunt om de team ID te vinden van onze club: Heracles Almelo"
   ]
  },
  {
   "cell_type": "code",
   "execution_count": null,
   "id": "26f000a0",
   "metadata": {},
   "outputs": [],
   "source": [
    "team[team[\"team_long_name\"] == \"Heracles Almelo\"]"
   ]
  },
  {
   "cell_type": "markdown",
   "id": "cdb8e9ef",
   "metadata": {},
   "source": [
    "De gegevens van het gekozen team staan getoond in de uitkomst van de onderstaande cell."
   ]
  },
  {
   "cell_type": "code",
   "execution_count": null,
   "id": "5c6b1c77",
   "metadata": {},
   "outputs": [],
   "source": [
    "team_id = team[team['team_long_name'] == 'Heracles Almelo'].iloc[0,1]\n",
    "print('Team ID:', team_id)\n",
    "print('Name:', team[team['team_long_name'] == 'Heracles Almelo'].iloc[0,3])\n",
    "print('Short name:', team[team['team_long_name'] == 'Heracles Almelo'].iloc[0,4])\n",
    "print('Country:', 'Netherlands')\n",
    "print('League id:', country[country['name'] == 'Netherlands'].iloc[0,0])\n",
    "print(\"League name:\", league[league[\"id\"] == 13274].iloc[0,2])"
   ]
  },
  {
   "cell_type": "markdown",
   "id": "0e6fe5a2",
   "metadata": {},
   "source": [
    "De gegevens van elke wedstrijd die het gekozen team heeft gespeeld per seizoen is hieronder getoond."
   ]
  },
  {
   "cell_type": "code",
   "execution_count": null,
   "id": "127b5f65",
   "metadata": {},
   "outputs": [],
   "source": [
    "display(match[(match['home_team_api_id'] == team_id) | (match['away_team_api_id'] == team_id)])"
   ]
  },
  {
   "cell_type": "markdown",
   "id": "7fdd669e",
   "metadata": {},
   "source": [
    "[Terug naar het begin](#begin)"
   ]
  },
  {
   "cell_type": "markdown",
   "id": "e3bfd4a1",
   "metadata": {},
   "source": [
    "## Eigen functies; Statistieken per seizoen bepalen <a name='define1'></a>"
   ]
  },
  {
   "cell_type": "markdown",
   "id": "86792ace",
   "metadata": {},
   "source": [
    "Hieronder zijn 4 functies gedefineerd:\n",
    "\n",
    "    id_zoeker\n",
    "    punten\n",
    "    statistiek\n",
    "    ranglijst\n",
    "De uitleg van alle functies staat omschreven in de docstrings"
   ]
  },
  {
   "cell_type": "markdown",
   "id": "d521de80",
   "metadata": {},
   "source": [
    "### id_zoeker <a name='id_zoeker'></a>"
   ]
  },
  {
   "cell_type": "code",
   "execution_count": null,
   "id": "6268649c",
   "metadata": {},
   "outputs": [],
   "source": [
    "def id_zoeker(club):\n",
    "    \"\"\"\n",
    "    Deze functie haalt het ID-nummer van de gegeven club op\n",
    "    \n",
    "    Parameters\n",
    "    ----------\n",
    "    club : str \n",
    "        De volledige naam van de club, waarvan je het ID wilt weten\n",
    "    \n",
    "    Returns\n",
    "    ----------\n",
    "    id : integer\n",
    "        Het ID-nummer van de gekozen club\n",
    "        \n",
    "    \"\"\"\n",
    "    \n",
    "    #Filteren\n",
    "    id = team[team['team_long_name'] == club].iloc[0,1]\n",
    "    return id"
   ]
  },
  {
   "cell_type": "markdown",
   "id": "304fa596",
   "metadata": {},
   "source": [
    "[Terug naar het begin](#begin)"
   ]
  },
  {
   "cell_type": "markdown",
   "id": "8c6fb100",
   "metadata": {},
   "source": [
    "### punten <a name='punten'></a>"
   ]
  },
  {
   "cell_type": "code",
   "execution_count": null,
   "id": "74af8531",
   "metadata": {},
   "outputs": [],
   "source": [
    "def punten(club, seizoen):\n",
    "    \"\"\"\n",
    "    Deze functie maakt, op basis van een club en een seizoen, 2 kolommen aan. Eén over het aantal punten en één over \n",
    "    of de wedstrijd thuis of uit was voor het gekozen team.\n",
    "    \n",
    "    Parameters\n",
    "    ----------\n",
    "    club : str \n",
    "        De volledige naam van de club, waarvan je wilt weten hoeveel er gescoord is\n",
    "    \n",
    "    seizoen : str\n",
    "        Het speel seizoen waar je de data van wilt weten\n",
    "    \n",
    "    Returns\n",
    "    ----------\n",
    "    wed : Pandas DataFrame\n",
    "        Een dataframe gebaseerd op match, waarbij alleen de data van de aangegeven club en seizoen wordt getoond\n",
    "    \n",
    "    \"\"\"\n",
    "    \n",
    "    #Aanmaken van een nieuwe gefilterde dataset en 2 lege lists\n",
    "    team_id = id_zoeker(club)\n",
    "    wed = match[((match['home_team_api_id'] == team_id) | (match['away_team_api_id'] == team_id)) & (match['season'] == seizoen)]\n",
    "    punten_ = []\n",
    "    tu = []\n",
    "    \n",
    "    #Beginnen van een list comprehension om de lijsten te vullen\n",
    "    punten_ = [3 if row['home_team_api_id'] == team_id and row['home_team_goal'] > row['away_team_goal']\n",
    "           else 1 if row['home_team_api_id'] == team_id and row['home_team_goal'] == row['away_team_goal']\n",
    "           else 0 if row['home_team_api_id'] == team_id\n",
    "           else 3 if row['away_team_goal'] > row['home_team_goal']\n",
    "           else 1 if row['away_team_goal'] == row['home_team_goal']\n",
    "           else 0 for _, row in wed.iterrows()]\n",
    "\n",
    "    tu = ['thuis' if row['home_team_api_id'] == team_id else 'uit' for _, row in wed.iterrows()]\n",
    "        \n",
    "    #Aanmaken van copy en 2 nieuwe kolommen\n",
    "    wed = wed.copy()\n",
    "    wed.loc[:, 'punten'] = punten_\n",
    "    wed.loc[:, 'thuis / uit'] = tu\n",
    "    return wed"
   ]
  },
  {
   "cell_type": "markdown",
   "id": "57bc617c",
   "metadata": {},
   "source": [
    "[Terug naar het begin](#begin)"
   ]
  },
  {
   "cell_type": "markdown",
   "id": "89c45f6e",
   "metadata": {},
   "source": [
    "### statistiek <a name='statistiek'></a>"
   ]
  },
  {
   "cell_type": "code",
   "execution_count": null,
   "id": "2f87f442",
   "metadata": {},
   "outputs": [],
   "source": [
    "def statistiek(club, seizoen):\n",
    "    \"\"\"\n",
    "    Deze functie laat de statistieken zien over de gegeven club in het gegeven seizoen. \n",
    "    \n",
    "    Parameters\n",
    "    ----------\n",
    "    club : str \n",
    "        De volledige naam van de club, waarvan je de statistieken wilt weten\n",
    "    \n",
    "    seizoen : str\n",
    "        Het speel seizoen waar je de data van wilt weten\n",
    "    \n",
    "    Returns\n",
    "    ----------\n",
    "    df : Pandas DataFrame\n",
    "        Een dataframe waarin de naam, het aantal wedstrijden, het aantal punten, het gemiddelde aantal punten \n",
    "        per wedstrijd en de winst percentages staan\n",
    "    \n",
    "    \"\"\"\n",
    "    \n",
    "    #Aanmaken van 2 aparte dataframes voor percentages\n",
    "    t = punten(club, seizoen)[punten(club, seizoen)['thuis / uit'] == 'thuis']\n",
    "    u = punten(club, seizoen)[punten(club, seizoen)['thuis / uit'] == 'uit']\n",
    "    \n",
    "    #Maken van een list met alle benodigde data voor het dataframe \n",
    "    stats = [[club,\n",
    "            seizoen,\n",
    "            len(punten(club, seizoen)),\n",
    "            sum(punten(club, seizoen)['punten']),\n",
    "            round(sum(punten(club, seizoen)['punten'] / len(punten(club, seizoen)['punten'])), 2),\n",
    "            round(t[t['punten'] == 3]['punten'].count() / t['punten'].count() * 100, 2),\n",
    "            round(t[t['punten'] == 1]['punten'].count() / t['punten'].count() * 100, 2),\n",
    "            round(t[t['punten'] == 0]['punten'].count() / t['punten'].count() * 100, 2),\n",
    "            round(u[u['punten'] == 3]['punten'].count() / u['punten'].count() * 100, 2),\n",
    "            round(u[u['punten'] == 1]['punten'].count() / u['punten'].count() * 100, 2),\n",
    "            round(u[u['punten'] == 0]['punten'].count() / u['punten'].count() * 100, 2)]]\n",
    "    \n",
    "    #Maken van het dataframe\n",
    "    df = pd.DataFrame(stats, columns =['team',\n",
    "                                       'seizoen',\n",
    "                                       'wedstrijden', \n",
    "                                       'punten',\n",
    "                                       'gemiddeld_punten',\n",
    "                                       'thuis_win%',\n",
    "                                       'thuis_gelijk%',\n",
    "                                       'thuis_verlies%',\n",
    "                                       'uit_win%',\n",
    "                                       'uit_gelijk%',\n",
    "                                       'uit_verlies%'])\n",
    "       \n",
    "    return df"
   ]
  },
  {
   "cell_type": "markdown",
   "id": "abd8808a",
   "metadata": {},
   "source": [
    "[Terug naar het begin](#begin)"
   ]
  },
  {
   "cell_type": "markdown",
   "id": "cda0ae7f",
   "metadata": {},
   "source": [
    "### ranglijst <a name='ranglijst'></a>"
   ]
  },
  {
   "cell_type": "code",
   "execution_count": null,
   "id": "09c3adda",
   "metadata": {},
   "outputs": [],
   "source": [
    "load_screen = [\"Welcome to this journey!..............................................\",    \n",
    "                       \"Preparing to load dataset.............................................\",    \n",
    "                       \"Checking for missing files...............................................\",    \n",
    "                       \"Initializing data structures................................................\",    \n",
    "                       \"Setting up parameters.....................................................\",    \n",
    "                       \"Loading feature vectors................................................\",    \n",
    "                       \"Applying pre-processing steps......................................\",    \n",
    "                       \"Filtering out invalid samples.............................................\",    \n",
    "                       \"Compiling statistics.......................................................\",    \n",
    "                       \"Normalizing data...........................................................\",    \n",
    "                       \"Building training and test sets..........................................\",    \n",
    "                       \"Cross-validating models.................................................\",   \n",
    "                       \"Fine-tuning hyperparameters..........................................\",    \n",
    "                       \"Evaluating performance metrics....................................\",    \n",
    "                       \"The dataset is almost loaded!........................................\"]\n",
    "\n",
    "def ranglijst(league_naam, seizoen):\n",
    "    \"\"\"\n",
    "    Deze functie laat de ranglijst zien over de gegeven league in het gegeven seizoen. \n",
    "    \n",
    "    Parameters\n",
    "    ----------\n",
    "    league_naam : str \n",
    "        De naam van de league waarvan je de ranglijst wilt bepalen\n",
    "    \n",
    "    seizoen : str\n",
    "        Het speel seizoen waar je de data van wilt weten\n",
    "    \n",
    "    Returns\n",
    "    ----------\n",
    "    df : Pandas DataFrame\n",
    "        Een dataframe waarin de data van het gegeven seizoen staat op volgorde van de behaalde punten\n",
    "        \n",
    "    \"\"\"\n",
    "    \n",
    "    #Filteren voor het maken van een lijst met alle team namen in een league\n",
    "    league_id = league[league['name']== league_naam].iloc[0,1]\n",
    "    seizoen_filter = match[match['season'] == seizoen]\n",
    "    team_ids = set(list(seizoen_filter[seizoen_filter['league_id'] == league_id]['home_team_api_id']))\n",
    "    team_ids = list(team_ids)\n",
    "    \n",
    "    #Maken van een lijst met alle team namen in een league\n",
    "    team_names = []\n",
    "    for i in team_ids:\n",
    "        team_names.append(team[team['team_api_id'] == i].iloc[0,3])\n",
    "    \n",
    "    #Aanmaken dataframe voor gebruik    \n",
    "    df = statistiek(team_names[0],seizoen)\n",
    "\n",
    "    #Loopen over de list met team namen om het dataframe vol te zetten\n",
    "    print('stats season', seizoen, 'from', league_naam)\n",
    "    for i in range(1, len(team_names)):\n",
    "        df = pd.concat([df, statistiek(team_names[i], seizoen)])\n",
    "        print(str(round(100/(len(team_names)+1)*i,2))+'%', load_screen[(i-1)%15], end = '\\r')\n",
    "    print('100.0% This adventure was brought to you by Group 3B.........')\n",
    "    \n",
    "    #Sorteren van het dataframe op basis van behaalde punten\n",
    "    df = df.sort_values(by='punten', ascending = False).set_index('team')\n",
    "    \n",
    "    return df "
   ]
  },
  {
   "cell_type": "markdown",
   "id": "054880ed",
   "metadata": {},
   "source": [
    "[Terug naar het begin](#begin)"
   ]
  },
  {
   "cell_type": "markdown",
   "id": "5dbdf6b5",
   "metadata": {},
   "source": [
    "## Het runnen van de functies <a name='run1'></a>\n",
    "Hieronder worden de functies statistiek en ranglijst uitgevoerd:"
   ]
  },
  {
   "cell_type": "code",
   "execution_count": null,
   "id": "541b417c",
   "metadata": {},
   "outputs": [],
   "source": [
    "statistiek('Heracles Almelo', '2009/2010')"
   ]
  },
  {
   "cell_type": "code",
   "execution_count": null,
   "id": "5f13e918",
   "metadata": {},
   "outputs": [],
   "source": [
    "ranglijst('Netherlands Eredivisie', '2009/2010')"
   ]
  },
  {
   "cell_type": "markdown",
   "id": "f65702b7",
   "metadata": {},
   "source": [
    "#### Einde Sprint 2"
   ]
  },
  {
   "cell_type": "markdown",
   "id": "e57438c4",
   "metadata": {},
   "source": [
    "[Terug naar het begin](#begin)"
   ]
  },
  {
   "cell_type": "markdown",
   "id": "3e53481b",
   "metadata": {},
   "source": [
    "# Sprint 3 <a name='spr3'></a>"
   ]
  },
  {
   "cell_type": "markdown",
   "id": "7f0f04f8",
   "metadata": {},
   "source": [
    "Voordat we aan de SQL functies beginnen, word er een decorator gemaakt om queries met SQL code te kunnen lezen."
   ]
  },
  {
   "cell_type": "code",
   "execution_count": null,
   "id": "d47505e6",
   "metadata": {},
   "outputs": [],
   "source": [
    "def sql_lezer(func):\n",
    "    \"\"\"\n",
    "    Een decorator die een functie met een query omzet tot een Pandas DataFrame\n",
    "\n",
    "    Parameters\n",
    "    ----------\n",
    "    func: Python Function\n",
    "        Een python function die een query bevat\n",
    "\n",
    "    Returns\n",
    "    -------\n",
    "    df : Pandas DataFrame\n",
    "        Een DataFrame met het resultaat van de query.\n",
    "    \"\"\"\n",
    "    \n",
    "    @wraps(func)\n",
    "    def wrapper(*args, **kwargs):\n",
    "        query = func(*args, **kwargs)\n",
    "        \n",
    "        #Aanmaken van try om te proberen de SQL query in te lezen.\n",
    "        try:\n",
    "            df = pd.read_sql(query, connect)\n",
    "            return df\n",
    "        \n",
    "        #Aanmaken van except om error's bij het inlezen niet de 'run all' van jupyter te laten stoppen, deze geeft het type melding als tekst weer.\n",
    "        except Exception as e:\n",
    "            print(f\"Error: {e}\")\n",
    "            return None\n",
    "        \n",
    "    return wrapper"
   ]
  },
  {
   "cell_type": "markdown",
   "id": "ae43a6a0",
   "metadata": {},
   "source": [
    "[Terug naar het begin](#begin)"
   ]
  },
  {
   "cell_type": "markdown",
   "id": "2382781a",
   "metadata": {},
   "source": [
    "## Eigen functies: Prestaties van Heracles Almelo <a name='prestatie'></a>"
   ]
  },
  {
   "cell_type": "markdown",
   "id": "b0f1cf81",
   "metadata": {},
   "source": [
    "In de volgende cellen code worden de functies gemaakt om te kijken naar de prestaties van ons team, Heracles Almelo. Eerst wordt er bekeken hoeveel wedstrijden er in elk seizoen zijn gespeeld."
   ]
  },
  {
   "cell_type": "markdown",
   "id": "2be91b35",
   "metadata": {},
   "source": [
    "### wedstrijden"
   ]
  },
  {
   "cell_type": "code",
   "execution_count": null,
   "id": "5a0526b7",
   "metadata": {},
   "outputs": [],
   "source": [
    "@sql_lezer\n",
    "def wedstrijden(team_id):\n",
    "    \"\"\"\n",
    "    Haalt het aantal gespeelde wedstrijden op van een bepaald team voor elk seizoen.\n",
    "\n",
    "    Parameters\n",
    "    ----------\n",
    "    team_id : int\n",
    "        Het team ID van het team waarvan het aantal gespeelde wedstrijden wordt opgehaald.\n",
    "\n",
    "    Returns\n",
    "    -------\n",
    "    query : str\n",
    "        Een SQL-query die het aantal gespeelde wedstrijden door het opgegeven team voor elk seizoen toont, \n",
    "        met de kolommen seizoen en Games_played. De query wordt gelezen en veranderd in een dataframe door\n",
    "        de decorator: sql_lezer.\n",
    "    \"\"\"\n",
    "    \n",
    "    query = f\"\"\"\n",
    "        SELECT season\n",
    "                    , COUNT(DISTINCT(match_api_id)) AS Games_played\n",
    "            FROM match\n",
    "        \n",
    "        WHERE (home_team_api_id = {team_id}) OR (away_team_api_id = {team_id})\n",
    "        \n",
    "        GROUP BY season\n",
    "    \"\"\"\n",
    "    return query"
   ]
  },
  {
   "cell_type": "markdown",
   "id": "5a6b587a",
   "metadata": {},
   "source": [
    "[Terug naar het begin](#begin)"
   ]
  },
  {
   "cell_type": "markdown",
   "id": "ee1a8305",
   "metadata": {},
   "source": [
    "### wedstrijden_2010"
   ]
  },
  {
   "cell_type": "markdown",
   "id": "5383fe64",
   "metadata": {},
   "source": [
    "Vervolgens wordt er gekeken naar het aantal gespeelde wedstrijden in het jaar 2010."
   ]
  },
  {
   "cell_type": "code",
   "execution_count": null,
   "id": "df29e66c",
   "metadata": {},
   "outputs": [],
   "source": [
    "@sql_lezer\n",
    "def wedstrijden_2010(team_id):\n",
    "    \"\"\"\n",
    "    Haalt het aantal gespeelde wedstrijden op van een bepaald team in het jaar 2010.\n",
    "\n",
    "    Parameters\n",
    "    ----------\n",
    "    team_id : int\n",
    "        Het team ID van het team waarvan het aantal gespeelde wedstrijden wordt opgehaald.\n",
    "\n",
    "    Returns\n",
    "    -------\n",
    "    query : str\n",
    "        Een SQL-query die het aantal gespeelde wedstrijden door het opgegeven team in het jaar 2010 toont, \n",
    "        met de kolommen seizoen en Games_played. De query wordt gelezen en veranderd in een dataframe door\n",
    "        de decorator: sql_lezer.\n",
    "    \"\"\"\n",
    "    \n",
    "    query = f\"\"\"\n",
    "        SELECT season\n",
    "                    , COUNT(DISTINCT(match_api_id)) AS Games_played\n",
    "            FROM match\n",
    "        \n",
    "        WHERE ((home_team_api_id = {team_id}) OR (away_team_api_id = {team_id})) \n",
    "        And (date BETWEEN '2010-01-01 00:00:00' AND '2010-12-31 00:00:00' )\n",
    "        \n",
    "        GROUP BY season\n",
    "\n",
    "    \"\"\"\n",
    "    return query"
   ]
  },
  {
   "cell_type": "markdown",
   "id": "37bbcc47",
   "metadata": {},
   "source": [
    "[Terug naar het begin](#begin)"
   ]
  },
  {
   "cell_type": "markdown",
   "id": "d11bf1bc",
   "metadata": {},
   "source": [
    "### maak_tabel"
   ]
  },
  {
   "cell_type": "markdown",
   "id": "72451224",
   "metadata": {},
   "source": [
    "Hieronder wordt er een tabel aangemaakt om bij de volgende opgaven te gebruiken. Deze tabel wordt gebruikt om het aantal punten per seizoen per competitie te tonen."
   ]
  },
  {
   "cell_type": "code",
   "execution_count": null,
   "id": "d03af13a",
   "metadata": {
    "scrolled": true
   },
   "outputs": [],
   "source": [
    "@sql_lezer\n",
    "def maak_tabel(league_id):\n",
    "    \"\"\"\n",
    "    Haalt de punten op van elk team per seizoen in de opgegeven competitie. Deze waarden worden vervolgens in een nieuwe tabel gezet.\n",
    "\n",
    "    Parameters\n",
    "    ----------\n",
    "    league_id : int\n",
    "        Het ID van de competitie waarvan de punten van elk team per seizoen worden opgehaald, ook wordt de plaats in de competities getoond.\n",
    "\n",
    "    Returns\n",
    "    -------\n",
    "     query : str\n",
    "        Een SQL-query die de punten van elk team per seizoen in de opgegeven competitie toont,\n",
    "        met de kolommen league_id, season, Team_ID, Home_Points, Away_Points, Total_Points en Rank.\n",
    "        De resultaten zijn gesorteerd op seizoen en totale punten in aflopende volgorde. De query wordt gelezen\n",
    "        en toegepast door de decorator: sql_lezer.\n",
    "    \"\"\"\n",
    "    \n",
    "    query = f\"\"\" \n",
    "        CREATE TEMP TABLE pps_{league_id} AS\n",
    "        SELECT h.league_id\n",
    "                    , h.season\n",
    "                    , h.Team_ID AS team_api_id\n",
    "                    , h.Points AS punten_thuis\n",
    "                    , a.Points AS punten_uit\n",
    "                    , (h.Points + a.Points) AS punten_totaal\n",
    "                    , ROW_NUMBER() OVER (PARTITION BY h.season ORDER BY (h.Points + a.Points) DESC) AS rang_seizoen\n",
    "                \n",
    "            FROM (SELECT league_id\n",
    "                                    , season\n",
    "                                    , home_team_api_id AS Team_ID\n",
    "                                    , SUM(CASE WHEN (home_team_goal > away_team_goal) THEN 3\n",
    "                                                          WHEN (home_team_goal = away_team_goal) THEN 1\n",
    "                                                          WHEN (home_team_goal < away_team_goal) THEN 0\n",
    "                                                          END) AS Points\n",
    "                            FROM match\n",
    "                            WHERE league_id = {league_id}\n",
    "                            GROUP BY season\n",
    "                                            , Team_ID) AS h\n",
    "                        \n",
    "        JOIN (SELECT league_id\n",
    "                                , season\n",
    "                                , away_team_api_id AS Team_ID\n",
    "                                , SUM(CASE WHEN (away_team_goal > home_team_goal) THEN 3\n",
    "                                                      WHEN (away_team_goal = home_team_goal) THEN 1\n",
    "                                                      WHEN (away_team_goal < home_team_goal) THEN 0\n",
    "                                                      END) AS Points\n",
    "                    FROM match\n",
    "                    WHERE league_id = {league_id}\n",
    "                    GROUP BY season\n",
    "                                    , Team_ID) AS a \n",
    "            ON h.season = a.season AND h.Team_ID = a.Team_ID\n",
    "                    \n",
    "        ORDER BY h.season, punten_totaal DESC;\n",
    "    \"\"\"\n",
    "    return query.strip()"
   ]
  },
  {
   "cell_type": "markdown",
   "id": "54e48ead",
   "metadata": {},
   "source": [
    "[Terug naar het begin](#begin)"
   ]
  },
  {
   "cell_type": "markdown",
   "id": "81cb1d76",
   "metadata": {},
   "source": [
    "### punten_per_seizoen"
   ]
  },
  {
   "cell_type": "markdown",
   "id": "5947f1d2",
   "metadata": {},
   "source": [
    "Nu wordt de functie punten_per_seizoen aangemaakt, die de aangemaakte tabel toont."
   ]
  },
  {
   "cell_type": "code",
   "execution_count": null,
   "id": "d8e25f40",
   "metadata": {},
   "outputs": [],
   "source": [
    "@sql_lezer \n",
    "def punten_per_seizoen(league_id):\n",
    "    \"\"\"\n",
    "    Deze functie toont de tabel met het league_id waarmee de punten tabel is aangemaakt\n",
    "    \n",
    "    Parameters\n",
    "    ----------\n",
    "    league_id : int\n",
    "        Het ID van de competitie waarvan de tabel die is aangemaakt met maak_tabel() is aangemaakt.\n",
    "\n",
    "    Returns\n",
    "    ---------\n",
    "     query : str\n",
    "        Een SQL-query die is gemaakt met maak_tabel(). Deze bevat de volgende kolommen:\n",
    "        league_id, season, Team_ID, Home_Points, Away_Points, Total_Points en Rank.\n",
    "        De query wordt gelezen en veranderd in een dataframe door de decorator: sql_lezer.\n",
    "    \n",
    "    \"\"\"\n",
    "    \n",
    "    query = f\"\"\"\n",
    "        SELECT *\n",
    "            FROM pps_{league_id}\n",
    "    \"\"\"\n",
    "    return query"
   ]
  },
  {
   "cell_type": "markdown",
   "id": "4a3ff83e",
   "metadata": {},
   "source": [
    "[Terug naar het begin](#begin)"
   ]
  },
  {
   "cell_type": "markdown",
   "id": "717b2bb8",
   "metadata": {},
   "source": [
    "### plaats_team"
   ]
  },
  {
   "cell_type": "markdown",
   "id": "a957b625",
   "metadata": {},
   "source": [
    "Als laatste wordt in de competitie gekeken naar plaats van Heracles Almelo per seizoen."
   ]
  },
  {
   "cell_type": "code",
   "execution_count": null,
   "id": "f049cdec",
   "metadata": {},
   "outputs": [],
   "source": [
    "@sql_lezer\n",
    "def plaats_team(league_id, team_id):\n",
    "    \"\"\"\n",
    "    Deze functie toont de tabel met het league_id waarmee de punten tabel is aangemaakt, deze is gefilterd op het aangegeven team_id.\n",
    "    \n",
    "    Parameters\n",
    "    ----------\n",
    "    league_id : int\n",
    "        Het ID van de competitie waarvan de tabel die is aangemaakt met maak_tabel() is aangemaakt.\n",
    "\n",
    "    Returns\n",
    "    ---------\n",
    "     query : str\n",
    "        Een SQL-query die is gemaakt met maak_tabel(), gefilterd op het gegeven team_id. \n",
    "        Deze bevat de volgende kolommen: league_id, season, Team_ID, Home_Points, Away_Points, Total_Points en Rank.\n",
    "        De query wordt gelezen en veranderd in een dataframe door de decorator: sql_lezer.\n",
    "    \"\"\"\n",
    "    \n",
    "    query = f\"\"\"\n",
    "    SELECT *\n",
    "        FROM pps_{league_id}\n",
    "        \n",
    "        WHERE team_api_id = {team_id}\n",
    "    \"\"\"\n",
    "    return query"
   ]
  },
  {
   "cell_type": "markdown",
   "id": "7d1ee7cf",
   "metadata": {},
   "source": [
    "[Terug naar het begin](#begin)"
   ]
  },
  {
   "cell_type": "markdown",
   "id": "269f1fef",
   "metadata": {},
   "source": [
    "## Bekijken van de prestaties <a name='prebekijk'></a>"
   ]
  },
  {
   "cell_type": "markdown",
   "id": "2cf4d3fd",
   "metadata": {},
   "source": [
    "In de onderstaande cellen zijn de resultaten in een cluster bij elkaar te vinden, de resultaten zijn afkomend van de vorige 5 eigen functies. Hierbij is voor het maken van de tabel pandas gebruikt en voor het selecteren word SQL gebruikt."
   ]
  },
  {
   "cell_type": "code",
   "execution_count": null,
   "id": "baba3909",
   "metadata": {},
   "outputs": [],
   "source": [
    "wedstrijden(9791)"
   ]
  },
  {
   "cell_type": "code",
   "execution_count": null,
   "id": "94fc7071",
   "metadata": {},
   "outputs": [],
   "source": [
    "wedstrijden_2010(9791)"
   ]
  },
  {
   "cell_type": "code",
   "execution_count": null,
   "id": "b5b1c107",
   "metadata": {},
   "outputs": [],
   "source": [
    "maak_tabel(13274)"
   ]
  },
  {
   "cell_type": "markdown",
   "id": "c381dd76",
   "metadata": {},
   "source": [
    "De functie maak_tabel geeft als het goed is een Error 'NoneType' object op. Dit komt omdat de decorator nodig was om de functie te laten werken. Echter kan de decorator geen dataframe aanmaken doordat er een tabel wordt aangemaakt om te kunnen gebruiken voor de volgende twee functies."
   ]
  },
  {
   "cell_type": "code",
   "execution_count": null,
   "id": "4254c6ad",
   "metadata": {},
   "outputs": [],
   "source": [
    "punten_per_seizoen(13274)"
   ]
  },
  {
   "cell_type": "code",
   "execution_count": null,
   "id": "753f48de",
   "metadata": {},
   "outputs": [],
   "source": [
    "plaats_team(13274, 9791)"
   ]
  },
  {
   "cell_type": "markdown",
   "id": "9a458fdf",
   "metadata": {},
   "source": [
    "[Terug naar het begin](#begin)"
   ]
  },
  {
   "cell_type": "markdown",
   "id": "e4b388aa",
   "metadata": {},
   "source": [
    "## Onderzoek teameigenschappen <a name='team'></a>"
   ]
  },
  {
   "cell_type": "markdown",
   "id": "c58d3ef7",
   "metadata": {},
   "source": [
    "Nu is het tijd om te kijken naar welke impact verschillende teameigenschappen hebben voor het hoger scoren van punten. Hiervoor worden er eerst wat DataFrames aangepast en aangemaakt."
   ]
  },
  {
   "cell_type": "markdown",
   "id": "38bc8cc7",
   "metadata": {},
   "source": [
    "### kolom_seizoen <a name='kolmaken'></a>"
   ]
  },
  {
   "cell_type": "markdown",
   "id": "fd454c33",
   "metadata": {},
   "source": [
    "Voordat er begonnen wordt met het onderzoek word er, met behulp van een eigen functie, een kolom aangemaakt om twee dataframes te kunnen mergen."
   ]
  },
  {
   "cell_type": "code",
   "execution_count": null,
   "id": "94e158ae",
   "metadata": {},
   "outputs": [],
   "source": [
    "def kolom_seizoen(df, col):\n",
    "    \"\"\"\n",
    "    Geeft een lijst van seizoenen terug op basis van de maanden in een kolom van een pandas DataFrame.\n",
    "\n",
    "    Parameters:\n",
    "    -----------------\n",
    "    df: Pandas DataFrame\n",
    "        Het DataFrame waaruit de maanden worden gehaald\n",
    "        \n",
    "    col: str\n",
    "        De naam van de kolom waaruit de maanden worden gehaald\n",
    "\n",
    "    Returns:\n",
    "    ------------\n",
    "    season_list: list\n",
    "        Een lijst van seizoenen in de vorm 'jaar/jaar', waarbij het jaar eindigt in juli.\n",
    "    \"\"\"\n",
    "    \n",
    "    #Aanmaken van een lege lijst om te gaan vullen \n",
    "    season_list = []\n",
    "    \n",
    "    #For-loop om de maanden om te zetten in seizoenen.\n",
    "    for datum in df[col]:\n",
    "        maand = datum[5:7]\n",
    "        maand = int(maand)\n",
    "        if maand > 7:\n",
    "            season_list.append(datum[0:4] + '/' + str(int(datum[0:4]) + 1))\n",
    "        else:\n",
    "            season_list.append(str(int(datum[0:4]) - 1) + '/' + datum[0:4])\n",
    "    \n",
    "    return season_list\n",
    "\n",
    "team_attributes['season'] = kolom_seizoen(team_attributes, 'date') "
   ]
  },
  {
   "cell_type": "markdown",
   "id": "a34dd237",
   "metadata": {},
   "source": [
    "### df_punten"
   ]
  },
  {
   "cell_type": "markdown",
   "id": "d5f7e0bd",
   "metadata": {},
   "source": [
    "Nu wordt er een dataframe gemaakt waarbij het aantal behaalde punten per team (van elke competitie) per seizoen getoond wordt. In de cel daaronder worden de twee dataframes team_attributes en df_points gemerged."
   ]
  },
  {
   "cell_type": "code",
   "execution_count": null,
   "id": "0ce984a2",
   "metadata": {},
   "outputs": [],
   "source": [
    "def df_punten(seizoen):\n",
    "    \"\"\"\n",
    "    Maakt het dataframe df_punten aan voor een merge. Hierin bevinden zich de kolommen: season, team_api_id en punten.\n",
    "\n",
    "    Parameters:\n",
    "    -----------------\n",
    "    seizoen : str\n",
    "        De jaartallen van het seizoen die bekeken wordt.\n",
    "\n",
    "    Returns:\n",
    "    ------------\n",
    "    df_punten : Pandas DataFrame\n",
    "        Een pandas DataFrame waarin het aangegeven seizoen, het team_id van de teams en het aantal behaalde punten staan.\n",
    "    \"\"\"\n",
    "        \n",
    "    #Zorgen dat het juiste seizoen wordt gekozen\n",
    "    match_temp = match[match['season'] == seizoen].reset_index(drop=True)\n",
    "    \n",
    "    #Maak 2 lijsten voor de behaalde thuis en uit punten\n",
    "    home_points = [3 if h > a else 1 if h == a else 0 for h, a in zip(match_temp['home_team_goal'], match_temp['away_team_goal'])]\n",
    "    away_points = [3 if a > h else 1 if a == h else 0 for h, a in zip(match_temp['home_team_goal'], match_temp['away_team_goal'])]\n",
    "    \n",
    "    #Maak een lijst met daarin alle data die nodig is voor bij de merge (De ' \\ ' is om door te gaan op de volgende regel)\n",
    "    data = [[match_temp['season'][i], match_temp['home_team_api_id'][i], home_points[i]] for i in range(len(match_temp))] + \\\n",
    "               [[match_temp['season'][i], match_temp['away_team_api_id'][i], away_points[i]] for i in range(len(match_temp))]\n",
    "    \n",
    "    #Maken van de dataframe df_points\n",
    "    df_punten = pd.DataFrame(data, columns=['season','team_api_id','punten'])\n",
    "\n",
    "    #Groepeer op seizoen en team_id om de punten op te tellen\n",
    "    df_punten = df_punten.groupby(['season','team_api_id']).sum().reset_index()\n",
    "    \n",
    "    return df_punten"
   ]
  },
  {
   "cell_type": "code",
   "execution_count": null,
   "id": "7286ecae",
   "metadata": {},
   "outputs": [],
   "source": [
    "#merge team_attributes en df_points\n",
    "team_attributes_points = pd.merge(team_attributes, df_punten('2009/2010'), on=['team_api_id', 'season'])\n",
    "\n",
    "#verwijderen kolommen die te veel NaN-waardes hebben of nauwelijks invloed hebben op performance.\n",
    "#De team_api_id en season kolommen zijn nog aanwezig om de date overzichtelijker te houden, deze hebben nauwelijks invloed op performance.\n",
    "team_attributes_points = team_attributes_points.drop(['buildUpPlayDribbling', 'id', 'team_fifa_api_id', 'date'],axis=1)\n",
    "\n",
    "display(team_attributes_points)"
   ]
  },
  {
   "cell_type": "markdown",
   "id": "ce9995b8",
   "metadata": {},
   "source": [
    "[Terug naar het begin](#begin)"
   ]
  },
  {
   "cell_type": "markdown",
   "id": "67303714",
   "metadata": {},
   "source": [
    "## Visualisaties <a name='visu1'></a>"
   ]
  },
  {
   "cell_type": "markdown",
   "id": "8a142218",
   "metadata": {},
   "source": [
    "Voor de visualisaties wordt er gezocht naar correlatie tussen het puntenaantal en de teameigenschappen. Eerst worden de functies gemaakt en vervolgens zullen deze functies aangeroepen worden."
   ]
  },
  {
   "cell_type": "markdown",
   "id": "db603923",
   "metadata": {},
   "source": [
    "### heatmap"
   ]
  },
  {
   "cell_type": "markdown",
   "id": "5fc073b6",
   "metadata": {},
   "source": [
    "Het maken van de heatmap geeft een duidelijk overzicht van de verschillende kolommen met numerieke variablen."
   ]
  },
  {
   "cell_type": "code",
   "execution_count": null,
   "id": "89204628",
   "metadata": {
    "scrolled": true
   },
   "outputs": [],
   "source": [
    "def heatmap(kolommen, corrnaam, df):\n",
    "    \"\"\"\n",
    "    Deze functie maakt een heatmap aan, gebaseerd op een lijst aan kolommen en een gegeven dataframe\n",
    "    \n",
    "    Parameters:\n",
    "    ---------------\n",
    "    kolommen : list[str]\n",
    "        Een lijst met numerieke kolommen waarvoor de correlatie tot 'corrnaam' wordt uitgerekend.\n",
    "    \n",
    "    corrnaam : str\n",
    "        De naam van de kolom waarmee de lijst van kolommen wordt gecorreleerd\n",
    "        \n",
    "    df : Pandas DataFrame\n",
    "        Het DataFrame waar de eerder vernoemde kolommen instaan\n",
    "        \n",
    "    Returns:\n",
    "    ---------------\n",
    "    None\n",
    "        Er wordt geen waarde gereturned. Er word een plot gemaakt van de correlatie in vorm van een heatmap.\n",
    "    \"\"\"\n",
    "    \n",
    "    #Maken van een nieuw dataframe met de gewilde kolommen\n",
    "    corr = df[kolommen + [corrnaam]]\n",
    "\n",
    "    #Maken van correlatie df\n",
    "    corr_hm = corr.corr()\n",
    "    corr_hm_col = corr_hm[corrnaam]\n",
    "    corr_hm_fini = corr_hm_col.drop(corrnaam)\n",
    "\n",
    "    #Plotten van de grafiek\n",
    "    sns.heatmap(pd.DataFrame(corr_hm_fini.sort_values(ascending=False)), cmap='coolwarm', annot=True)\n",
    "    return plt.show()"
   ]
  },
  {
   "cell_type": "markdown",
   "id": "82b5f456",
   "metadata": {},
   "source": [
    "### scatterplots"
   ]
  },
  {
   "cell_type": "markdown",
   "id": "aef0d957",
   "metadata": {},
   "source": [
    "De scatterplots zijn er om de correlatie nogmaals in beeld te brengen, echter laten de scatterplots het ook nog toe om de categoriale variablen te tonen."
   ]
  },
  {
   "cell_type": "code",
   "execution_count": null,
   "id": "cd24b590",
   "metadata": {},
   "outputs": [],
   "source": [
    "#Maken van scatterplots voor elke kolom, t.o.v. de punten kolom\n",
    "def scatterplots(df, kolom):\n",
    "    \"\"\"\n",
    "    Maakt een aantal scatter plots gelijk aan het aantal kolommen in de Dataframe. De scatterplots zijn tegen één specifieke kolom opgezet, om de \n",
    "    correlatie te visualiseren.\n",
    "    \n",
    "    Parameters:\n",
    "    ----------------\n",
    "    df : Pandas DataFrame\n",
    "        Een pandas DataFrame met kolommen waarvan je de correlaties wilt onderzoeken.\n",
    "    \n",
    "    kolom : str\n",
    "        De naam van de kolom waarmee de correlatie berekend word, ten opzichte van de andere kolommen.\n",
    "        \n",
    "    Returns:\n",
    "    ---------------\n",
    "    None :\n",
    "        In plaats van iets te returnen laat de functie meerdere scatterplots zien.\n",
    "    \"\"\"    \n",
    "    #For-loop om elke kolom een eigen scatterplot te geven\n",
    "    for col in df.columns:\n",
    "        #if-statement om te voorkomen dat de parameter kolom ook een scatterplot krijgt\n",
    "        if col != kolom:\n",
    "            #Zetten van de grootte van de plot\n",
    "            plt.subplots(figsize=(15, 5))\n",
    "            \n",
    "            #Maken en benoemen van de assen van een scatterplot\n",
    "            plt.scatter(df[col], df[kolom])\n",
    "            plt.xlabel(col)\n",
    "            plt.ylabel(kolom)\n",
    "            plt.title('{} vs. {}'.format(kolom, col))\n",
    "            plt.show()"
   ]
  },
  {
   "cell_type": "markdown",
   "id": "e8679e94",
   "metadata": {},
   "source": [
    "### boxplots"
   ]
  },
  {
   "cell_type": "markdown",
   "id": "2bcddcc3",
   "metadata": {},
   "source": [
    "Als laatste word er gekeken via boxplots. Boxplots tonen de verdeling van de variablen, waardoor er duidelijker kan worden gekeken naar de variablen. Deze verdeling kan laten zien of er misschien optimale niveau's van aanvals of verdedigings statistieken zijn, in plaats van dat er naar de correlatie wordt gekeken."
   ]
  },
  {
   "cell_type": "code",
   "execution_count": null,
   "id": "1df1a370",
   "metadata": {},
   "outputs": [],
   "source": [
    "def boxplots(df, kolom):\n",
    "    \"\"\"\n",
    "    Maakt een aantal box plots gelijk aan het aantal kolommen in de Dataframe. De box zijn tegen één specifieke kolom opgezet, om de \n",
    "    verdeling t.o.v. die kolom te tonen.\n",
    "    \n",
    "    Parameters:\n",
    "    ----------------\n",
    "    df : Pandas DataFrame\n",
    "        Een pandas DataFrame met kolommen waarvan je de verdeling wilt onderzoeken.\n",
    "    \n",
    "    kolom : str\n",
    "        De naam van de kolom waarbij de verdeling bekeken word, ten opzichte van de andere kolommen.\n",
    "        \n",
    "    Returns:\n",
    "    ---------------\n",
    "    None :\n",
    "        In plaats van iets te returnen laat de functie meerdere boxplots zien.\n",
    "    \"\"\"    \n",
    "    #For-loop om elke kolom een eigen boxplot te geven\n",
    "    for col in df.columns:\n",
    "        #if-statement om te voorkomen dat de kolom-parameter ook een boxplot krijgt\n",
    "        if col != kolom:\n",
    "            #Zetten van de grootte van de plot\n",
    "            plt.subplots(figsize=(15, 5))\n",
    "            \n",
    "            #Maken en benoemen van de assen van de boxplots\n",
    "            sns.boxplot(x=col, y=kolom, data=df, color= 'skyblue')\n",
    "            plt.xlabel(col)\n",
    "            plt.ylabel(kolom)\n",
    "            plt.title('{} vs. {}'.format(kolom, col))\n",
    "            plt.show()"
   ]
  },
  {
   "cell_type": "markdown",
   "id": "69c76f1f",
   "metadata": {},
   "source": [
    "## Tonen van de grafieken <a name='run3'></a>"
   ]
  },
  {
   "cell_type": "markdown",
   "id": "fc655816",
   "metadata": {},
   "source": [
    "Hieronder tonen we van elke functie de resulterende grafieken. Ook word er een nieuw df en een list aangemaakt om deze te gebruiken voor de visualisaties."
   ]
  },
  {
   "cell_type": "code",
   "execution_count": null,
   "id": "9823bf61",
   "metadata": {},
   "outputs": [],
   "source": [
    "#Relevante kolommen met de hand kiezen voor correlatie (numerieke kolommen), kolommen met te veel missende waardes zijn ook weggelaten.\n",
    "kolom_num = ['buildUpPlaySpeed', 'buildUpPlayPassing',\n",
    "                   'chanceCreationPassing', 'chanceCreationCrossing', 'chanceCreationShooting',\n",
    "                   'defencePressure', 'defenceAggression', 'defenceTeamWidth']"
   ]
  },
  {
   "cell_type": "code",
   "execution_count": null,
   "id": "e65b047e",
   "metadata": {},
   "outputs": [],
   "source": [
    "heatmap(kolom_num, 'punten', team_attributes_points)"
   ]
  },
  {
   "cell_type": "markdown",
   "id": "a7420fe4",
   "metadata": {},
   "source": [
    "Bij de heatmap valt er te zien dat de correlaties niet erg hoog zijn, door de scatterplots en boxplots wordt er gehoopt om een beter begrip te krijgen over welke waardes impact hebben op het aantal gescoorde punten."
   ]
  },
  {
   "cell_type": "code",
   "execution_count": null,
   "id": "03601e2a",
   "metadata": {},
   "outputs": [],
   "source": [
    "#Weghalen van bepaalde kolommen die geen impact hebben op het aantal punten\n",
    "tap = team_attributes_points.copy()\n",
    "tap = tap.drop(['season', 'team_api_id'], axis = 1)"
   ]
  },
  {
   "cell_type": "code",
   "execution_count": null,
   "id": "53f93613",
   "metadata": {},
   "outputs": [],
   "source": [
    "scatterplots(tap, 'punten')"
   ]
  },
  {
   "cell_type": "code",
   "execution_count": null,
   "id": "3f6c7cfc",
   "metadata": {},
   "outputs": [],
   "source": [
    "boxplots(tap, 'punten')"
   ]
  },
  {
   "cell_type": "markdown",
   "id": "c4027c46",
   "metadata": {},
   "source": [
    "Zo als te zien is uit de verschillende plots, valt er niet op 1 statistiek te drukken. Verschillende statistieken tonen betere resultaten op verschillende getallen, van zowel hoog, middel en laag. Dit laat zien dat de correlatie misschien niet hoog is wegens de brede spreiding van statistieken. De teameigenschappen zouden verder onderzocht moeten worden om goed te kunnen vertellen welke combinaties in statistiek beter werken dan anderen."
   ]
  },
  {
   "cell_type": "markdown",
   "id": "3f5669aa",
   "metadata": {},
   "source": [
    "[Terug naar het begin](#begin)"
   ]
  }
 ],
 "metadata": {
  "kernelspec": {
   "display_name": "Python 3 (ipykernel)",
   "language": "python",
   "name": "python3"
  },
  "language_info": {
   "codemirror_mode": {
    "name": "ipython",
    "version": 3
   },
   "file_extension": ".py",
   "mimetype": "text/x-python",
   "name": "python",
   "nbconvert_exporter": "python",
   "pygments_lexer": "ipython3",
   "version": "3.9.12"
  }
 },
 "nbformat": 4,
 "nbformat_minor": 5
}
